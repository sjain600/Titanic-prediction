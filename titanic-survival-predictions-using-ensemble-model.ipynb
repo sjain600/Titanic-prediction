{
 "cells": [
  {
   "cell_type": "code",
   "execution_count": 1,
   "metadata": {
    "_cell_guid": "b1076dfc-b9ad-4769-8c92-a6c4dae69d19",
    "_uuid": "8f2839f25d086af736a60e9eeb907d3b93b6e0e5",
    "execution": {
     "iopub.execute_input": "2025-03-22T06:04:43.054162Z",
     "iopub.status.busy": "2025-03-22T06:04:43.053753Z",
     "iopub.status.idle": "2025-03-22T06:04:44.162876Z",
     "shell.execute_reply": "2025-03-22T06:04:44.161854Z",
     "shell.execute_reply.started": "2025-03-22T06:04:43.054091Z"
    },
    "trusted": true
   },
   "outputs": [
    {
     "name": "stdout",
     "output_type": "stream",
     "text": [
      "/kaggle/input/titanic/train.csv\n",
      "/kaggle/input/titanic/test.csv\n",
      "/kaggle/input/titanic/gender_submission.csv\n"
     ]
    }
   ],
   "source": [
    "# This Python 3 environment comes with many helpful analytics libraries installed\n",
    "# It is defined by the kaggle/python Docker image: https://github.com/kaggle/docker-python\n",
    "# For example, here's several helpful packages to load\n",
    "\n",
    "import numpy as np # linear algebra\n",
    "import pandas as pd # data processing, CSV file I/O (e.g. pd.read_csv)\n",
    "import matplotlib.pyplot as plt \n",
    "import seaborn as sns\n",
    "\n",
    "# Input data files are available in the read-only \"../input/\" directory\n",
    "# For example, running this (by clicking run or pressing Shift+Enter) will list all files under the input directory\n",
    "\n",
    "import os\n",
    "for dirname, _, filenames in os.walk('/kaggle/input'):\n",
    "    for filename in filenames:\n",
    "        print(os.path.join(dirname, filename))\n",
    "\n",
    "# You can write up to 20GB to the current directory (/kaggle/working/) that gets preserved as output when you create a version using \"Save & Run All\" \n",
    "# You can also write temporary files to /kaggle/temp/, but they won't be saved outside of the current session"
   ]
  },
  {
   "cell_type": "code",
   "execution_count": 2,
   "metadata": {
    "execution": {
     "iopub.execute_input": "2025-03-22T06:04:47.354539Z",
     "iopub.status.busy": "2025-03-22T06:04:47.354064Z",
     "iopub.status.idle": "2025-03-22T06:04:47.360205Z",
     "shell.execute_reply": "2025-03-22T06:04:47.358997Z",
     "shell.execute_reply.started": "2025-03-22T06:04:47.354503Z"
    },
    "trusted": true
   },
   "outputs": [],
   "source": [
    "# Setting matplotlib defaults\n",
    "plt.style.use('seaborn-v0_8')\n",
    "plt.rc('figure', figsize=(8, 5), dpi=145)\n",
    "plt.rc('axes', labelweight='bold', labelsize='large',\n",
    "       titleweight='bold', titlesize=15, titlepad=10)\n"
   ]
  },
  {
   "cell_type": "code",
   "execution_count": 3,
   "metadata": {
    "execution": {
     "iopub.execute_input": "2025-03-22T06:04:49.898997Z",
     "iopub.status.busy": "2025-03-22T06:04:49.898511Z",
     "iopub.status.idle": "2025-03-22T06:04:49.916539Z",
     "shell.execute_reply": "2025-03-22T06:04:49.915350Z",
     "shell.execute_reply.started": "2025-03-22T06:04:49.898960Z"
    },
    "trusted": true
   },
   "outputs": [],
   "source": [
    "train_df = pd.read_csv(\"/kaggle/input/titanic/train.csv\")\n",
    "test_df = pd.read_csv(\"/kaggle/input/titanic/test.csv\")"
   ]
  },
  {
   "cell_type": "code",
   "execution_count": null,
   "metadata": {
    "execution": {
     "iopub.execute_input": "2025-03-22T06:04:58.621571Z",
     "iopub.status.busy": "2025-03-22T06:04:58.621220Z",
     "iopub.status.idle": "2025-03-22T06:04:58.639282Z",
     "shell.execute_reply": "2025-03-22T06:04:58.638233Z",
     "shell.execute_reply.started": "2025-03-22T06:04:58.621539Z"
    },
    "trusted": true
   },
   "outputs": [],
   "source": [
    "train_df.head()"
   ]
  },
  {
   "cell_type": "code",
   "execution_count": null,
   "metadata": {},
   "outputs": [],
   "source": [
    "train_df.info()"
   ]
  },
  {
   "cell_type": "code",
   "execution_count": null,
   "metadata": {},
   "outputs": [],
   "source": [
    "print('Missing values on train data')\n",
    "train_df.isnull().sum()"
   ]
  },
  {
   "cell_type": "code",
   "execution_count": null,
   "metadata": {},
   "outputs": [],
   "source": [
    "print('Missing values on test data')\n",
    "test_df.isnull().sum()"
   ]
  },
  {
   "cell_type": "code",
   "execution_count": null,
   "metadata": {},
   "outputs": [],
   "source": [
    "train_df.describe()"
   ]
  },
  {
   "cell_type": "code",
   "execution_count": null,
   "metadata": {},
   "outputs": [],
   "source": [
    "train_df.nunique()"
   ]
  },
  {
   "cell_type": "code",
   "execution_count": null,
   "metadata": {},
   "outputs": [],
   "source": [
    "sns.countplot(x='Survived', data=train_df, palette='Spectral')\n",
    "plt.title('Count Plot of Not Survived and Survived')"
   ]
  },
  {
   "cell_type": "markdown",
   "metadata": {},
   "source": [
    "Feature Engineering"
   ]
  },
  {
   "cell_type": "code",
   "execution_count": 4,
   "metadata": {
    "execution": {
     "iopub.execute_input": "2025-03-22T06:06:00.456062Z",
     "iopub.status.busy": "2025-03-22T06:06:00.455576Z",
     "iopub.status.idle": "2025-03-22T06:06:00.469299Z",
     "shell.execute_reply": "2025-03-22T06:06:00.468229Z",
     "shell.execute_reply.started": "2025-03-22T06:06:00.456028Z"
    },
    "trusted": true
   },
   "outputs": [],
   "source": [
    "train_df['Family'] = train_df['SibSp'] + train_df['Parch'] + 1\n",
    "train_df['Family_size'] = pd.cut(\n",
    "    train_df['Family'],\n",
    "    bins=[1, 2, 6, float('inf')],\n",
    "    labels=['alone', 'small', 'large'],\n",
    "    right=False\n",
    ")\n",
    "\n",
    "test_df['Family'] = test_df['SibSp'] + test_df['Parch'] + 1\n",
    "test_df['Family_size'] = pd.cut(\n",
    "    train_df['Family'],\n",
    "    bins=[1, 2, 6, float('inf')],\n",
    "    labels=['alone', 'small', 'large'],\n",
    "    right=False\n",
    ")\n"
   ]
  },
  {
   "cell_type": "code",
   "execution_count": 5,
   "metadata": {
    "execution": {
     "iopub.execute_input": "2025-03-22T06:06:02.988111Z",
     "iopub.status.busy": "2025-03-22T06:06:02.987737Z",
     "iopub.status.idle": "2025-03-22T06:06:02.998260Z",
     "shell.execute_reply": "2025-03-22T06:06:02.997131Z",
     "shell.execute_reply.started": "2025-03-22T06:06:02.988080Z"
    },
    "trusted": true
   },
   "outputs": [
    {
     "data": {
      "text/plain": [
       "array(['Mr', 'Mrs', 'Miss', 'Master', 'Don', 'Rev', 'Dr', 'Mme', 'Ms',\n",
       "       'Major', 'Lady', 'Sir', 'Mlle', 'Col', 'Capt', nan, 'Jonkheer'],\n",
       "      dtype=object)"
      ]
     },
     "execution_count": 5,
     "metadata": {},
     "output_type": "execute_result"
    }
   ],
   "source": [
    "train_df['Title'] = train_df['Name'].str.extract(r',\\s*([A-Za-z]+)\\.', expand=False)\n",
    "test_df['Title'] = test_df['Name'].str.extract(r',\\s*([A-Za-z]+)\\.', expand=False)\n",
    "train_df['Title'].unique()"
   ]
  },
  {
   "cell_type": "code",
   "execution_count": 6,
   "metadata": {
    "execution": {
     "iopub.execute_input": "2025-03-22T06:06:05.490904Z",
     "iopub.status.busy": "2025-03-22T06:06:05.490540Z",
     "iopub.status.idle": "2025-03-22T06:06:05.503348Z",
     "shell.execute_reply": "2025-03-22T06:06:05.502111Z",
     "shell.execute_reply.started": "2025-03-22T06:06:05.490875Z"
    },
    "trusted": true
   },
   "outputs": [],
   "source": [
    "title_mapping = {\n",
    "    'Mlle': 'Miss', 'Ms':'Miss', 'Mme': 'Mrs',\n",
    "    'Lady': 'Royalty', 'Countess': 'Royalty', 'Don': 'Royalty', \n",
    "    'Dona': 'Royalty', 'Sir': 'Royalty', 'Jonkheer': 'Royalty',\n",
    "    'Capt':'Officer', 'Col': 'Officer', 'Dr':'Officer',\n",
    "    'Major': 'Officer', 'Rev': 'Officer'\n",
    "}\n",
    "\n",
    "train_df['Title'] = train_df['Title'].replace(title_mapping)\n",
    "train_df['Title'] = train_df['Title'].fillna('median')\n",
    "\n",
    "test_df['Title'] = test_df['Title'].replace(title_mapping)\n",
    "test_df['Title'] = test_df['Title'].fillna('median')"
   ]
  },
  {
   "cell_type": "code",
   "execution_count": 7,
   "metadata": {
    "execution": {
     "iopub.execute_input": "2025-03-22T06:06:08.426210Z",
     "iopub.status.busy": "2025-03-22T06:06:08.425863Z",
     "iopub.status.idle": "2025-03-22T06:06:08.556656Z",
     "shell.execute_reply": "2025-03-22T06:06:08.555835Z",
     "shell.execute_reply.started": "2025-03-22T06:06:08.426183Z"
    },
    "trusted": true
   },
   "outputs": [],
   "source": [
    "from sklearn.impute import SimpleImputer\n",
    "\n",
    "imputer = SimpleImputer(strategy='mean')\n",
    "train_df['Age'] = imputer.fit_transform(train_df[['Age']])\n",
    "\n",
    "imputer = SimpleImputer(strategy='most_frequent')\n",
    "train_df[['Cabin', 'Embarked']] = imputer.fit_transform(train_df[['Cabin', 'Embarked']])\n",
    "\n",
    "imputer = SimpleImputer(strategy='mean')\n",
    "test_df['Age'] = imputer.fit_transform(test_df[['Age']])\n",
    "\n",
    "imputer = SimpleImputer(strategy='most_frequent')\n",
    "test_df[['Cabin', 'Fare']] = imputer.fit_transform(test_df[['Cabin', 'Fare']])"
   ]
  },
  {
   "cell_type": "code",
   "execution_count": 8,
   "metadata": {
    "execution": {
     "iopub.execute_input": "2025-03-22T06:06:11.241094Z",
     "iopub.status.busy": "2025-03-22T06:06:11.240712Z",
     "iopub.status.idle": "2025-03-22T06:06:11.250345Z",
     "shell.execute_reply": "2025-03-22T06:06:11.249437Z",
     "shell.execute_reply.started": "2025-03-22T06:06:11.241064Z"
    },
    "trusted": true
   },
   "outputs": [],
   "source": [
    "labels = [0, 1, 2, 3, 4]\n",
    "bins = [0, 12, 18, 35, 60, 100]\n",
    "train_df['age_group'] = pd.cut(train_df['Age'], bins=bins, labels=labels, include_lowest=True) \n",
    "test_df['age_group'] = pd.cut(test_df['Age'], bins=bins, labels=labels, include_lowest=True) "
   ]
  },
  {
   "cell_type": "code",
   "execution_count": 9,
   "metadata": {
    "execution": {
     "iopub.execute_input": "2025-03-22T06:06:13.303589Z",
     "iopub.status.busy": "2025-03-22T06:06:13.303261Z",
     "iopub.status.idle": "2025-03-22T06:06:13.317041Z",
     "shell.execute_reply": "2025-03-22T06:06:13.315801Z",
     "shell.execute_reply.started": "2025-03-22T06:06:13.303564Z"
    },
    "trusted": true
   },
   "outputs": [],
   "source": [
    "train_df['fare_bin'] = pd.qcut(train_df['Fare'], 4, labels=[0, 1, 2, 3])\n",
    "test_df['fare_bin'] = pd.qcut(test_df['Fare'], 4, labels=[0, 1, 2, 3])"
   ]
  },
  {
   "cell_type": "code",
   "execution_count": 10,
   "metadata": {
    "execution": {
     "iopub.execute_input": "2025-03-22T06:06:15.122024Z",
     "iopub.status.busy": "2025-03-22T06:06:15.121592Z",
     "iopub.status.idle": "2025-03-22T06:06:15.136372Z",
     "shell.execute_reply": "2025-03-22T06:06:15.135244Z",
     "shell.execute_reply.started": "2025-03-22T06:06:15.121991Z"
    },
    "trusted": true
   },
   "outputs": [],
   "source": [
    "from sklearn.preprocessing import LabelEncoder\n",
    "\n",
    "l_features = ['Sex', 'Embarked', 'Family_size', 'Ticket', 'Title', 'Cabin']\n",
    "for col in l_features:\n",
    "   le = LabelEncoder()\n",
    "   train_df[col] = le.fit_transform(train_df[col])\n",
    "   test_df[col] = le.fit_transform(test_df[col])"
   ]
  },
  {
   "cell_type": "code",
   "execution_count": 11,
   "metadata": {
    "execution": {
     "iopub.execute_input": "2025-03-22T06:06:17.402934Z",
     "iopub.status.busy": "2025-03-22T06:06:17.402502Z",
     "iopub.status.idle": "2025-03-22T06:06:17.411431Z",
     "shell.execute_reply": "2025-03-22T06:06:17.410299Z",
     "shell.execute_reply.started": "2025-03-22T06:06:17.402900Z"
    },
    "trusted": true
   },
   "outputs": [],
   "source": [
    "train_df['fare_pclass'] = train_df['Fare'] * train_df['Pclass']\n",
    "test_df['fare_pclass'] = test_df['Fare'] * test_df['Pclass']\n",
    "train_df['age_pclass'] = train_df['Age'] * train_df['Pclass']\n",
    "test_df['age_pclass'] = test_df['Age'] * test_df['Pclass']"
   ]
  },
  {
   "cell_type": "code",
   "execution_count": null,
   "metadata": {
    "execution": {
     "iopub.execute_input": "2025-03-22T06:06:27.221289Z",
     "iopub.status.busy": "2025-03-22T06:06:27.220956Z",
     "iopub.status.idle": "2025-03-22T06:06:27.227797Z",
     "shell.execute_reply": "2025-03-22T06:06:27.226567Z",
     "shell.execute_reply.started": "2025-03-22T06:06:27.221263Z"
    },
    "trusted": true
   },
   "outputs": [],
   "source": [
    "train_df.columns"
   ]
  },
  {
   "cell_type": "code",
   "execution_count": 12,
   "metadata": {
    "execution": {
     "iopub.execute_input": "2025-03-22T06:06:33.885604Z",
     "iopub.status.busy": "2025-03-22T06:06:33.885279Z",
     "iopub.status.idle": "2025-03-22T06:06:33.894681Z",
     "shell.execute_reply": "2025-03-22T06:06:33.893505Z",
     "shell.execute_reply.started": "2025-03-22T06:06:33.885578Z"
    },
    "trusted": true
   },
   "outputs": [],
   "source": [
    "train_df.drop(['Name', 'SibSp', 'Parch'], axis=1, inplace=True)\n",
    "test_df.drop(['Name', 'SibSp', 'Parch'], axis=1, inplace=True)"
   ]
  },
  {
   "cell_type": "code",
   "execution_count": 13,
   "metadata": {
    "execution": {
     "iopub.execute_input": "2025-03-22T06:08:29.057448Z",
     "iopub.status.busy": "2025-03-22T06:08:29.057054Z",
     "iopub.status.idle": "2025-03-22T06:08:29.065825Z",
     "shell.execute_reply": "2025-03-22T06:08:29.064715Z",
     "shell.execute_reply.started": "2025-03-22T06:08:29.057418Z"
    },
    "trusted": true
   },
   "outputs": [],
   "source": [
    "X = train_df.copy()\n",
    "y = X.pop('Survived')\n",
    "X_test = test_df.copy()\n"
   ]
  },
  {
   "cell_type": "code",
   "execution_count": 14,
   "metadata": {
    "execution": {
     "iopub.execute_input": "2025-03-22T06:08:31.124362Z",
     "iopub.status.busy": "2025-03-22T06:08:31.124035Z",
     "iopub.status.idle": "2025-03-22T06:08:31.147496Z",
     "shell.execute_reply": "2025-03-22T06:08:31.146440Z",
     "shell.execute_reply.started": "2025-03-22T06:08:31.124336Z"
    },
    "trusted": true
   },
   "outputs": [],
   "source": [
    "from sklearn.model_selection import train_test_split, KFold\n",
    "from sklearn.preprocessing import RobustScaler\n",
    "\n",
    "kf = KFold(n_splits=10, shuffle=True, random_state=540)\n",
    "for train_index, valid_index in kf.split(X, y):\n",
    "    X_train, X_valid = X.iloc[train_index], X.iloc[valid_index]\n",
    "    y_train, y_valid = y.iloc[train_index], y.iloc[valid_index]\n",
    "\n",
    "scaler = RobustScaler()\n",
    "X_train = scaler.fit_transform(X_train)\n",
    "X_valid = scaler.transform(X_valid)\n",
    "X_test = scaler.transform(X_test)"
   ]
  },
  {
   "cell_type": "code",
   "execution_count": 15,
   "metadata": {
    "execution": {
     "iopub.execute_input": "2025-03-22T06:08:33.294383Z",
     "iopub.status.busy": "2025-03-22T06:08:33.294026Z",
     "iopub.status.idle": "2025-03-22T06:08:33.839701Z",
     "shell.execute_reply": "2025-03-22T06:08:33.838614Z",
     "shell.execute_reply.started": "2025-03-22T06:08:33.294352Z"
    },
    "trusted": true
   },
   "outputs": [
    {
     "name": "stdout",
     "output_type": "stream",
     "text": [
      "Accuracy score: 0.85393\n"
     ]
    }
   ],
   "source": [
    "from sklearn.ensemble import RandomForestClassifier, AdaBoostClassifier, VotingClassifier, GradientBoostingClassifier\n",
    "from sklearn.metrics import accuracy_score\n",
    "\n",
    "rfc = RandomForestClassifier(n_estimators=250, random_state=540)\n",
    "rfc.fit(X_train, y_train)\n",
    "y_pred_rfc = rfc.predict(X_valid)\n",
    "acc = accuracy_score(y_valid, y_pred_rfc)\n",
    "print(f\"Accuracy score: {acc:,.5f}\")\n"
   ]
  },
  {
   "cell_type": "code",
   "execution_count": 16,
   "metadata": {
    "execution": {
     "iopub.execute_input": "2025-03-22T06:08:36.627229Z",
     "iopub.status.busy": "2025-03-22T06:08:36.626871Z",
     "iopub.status.idle": "2025-03-22T06:08:38.943494Z",
     "shell.execute_reply": "2025-03-22T06:08:38.942367Z",
     "shell.execute_reply.started": "2025-03-22T06:08:36.627197Z"
    },
    "trusted": true
   },
   "outputs": [
    {
     "name": "stdout",
     "output_type": "stream",
     "text": [
      "Accuracy score: 0.84270\n"
     ]
    }
   ],
   "source": [
    "from sklearn.gaussian_process import GaussianProcessClassifier\n",
    "from sklearn.gaussian_process.kernels import RBF\n",
    "\n",
    "rfc = RandomForestClassifier(n_estimators=300, random_state=540)\n",
    "abc = AdaBoostClassifier(n_estimators=140, random_state=540)\n",
    "gpc = GaussianProcessClassifier(random_state=540, kernel=RBF())\n",
    "gbc = GradientBoostingClassifier(max_leaf_nodes=2, random_state=540)\n",
    "ensemble_model = VotingClassifier(estimators=[('rfc', rfc), ('abc', abc), ('gpc', gpc), ('gbc', gbc)])\n",
    "ensemble_model.fit(X_train, y_train)\n",
    "y_pred_em = ensemble_model.predict(X_valid)\n",
    "acc = accuracy_score(y_valid, y_pred_em)\n",
    "print(f\"Accuracy score: {acc:,.5f}\")"
   ]
  },
  {
   "cell_type": "code",
   "execution_count": 17,
   "metadata": {},
   "outputs": [
    {
     "name": "stdout",
     "output_type": "stream",
     "text": [
      "Your submission was successfully saved!\n"
     ]
    }
   ],
   "source": [
    "test_preds = ensemble_model.predict(X_test)\n",
    "output = pd.DataFrame({'PassengerId': test_df.PassengerId, 'Survived': test_preds})\n",
    "output.to_csv('submission.csv', index=False)\n",
    "print(\"Your submission was successfully saved!\")"
   ]
  }
 ],
 "metadata": {
  "kaggle": {
   "accelerator": "none",
   "dataSources": [
    {
     "databundleVersionId": 26502,
     "sourceId": 3136,
     "sourceType": "competition"
    }
   ],
   "dockerImageVersionId": 30918,
   "isGpuEnabled": false,
   "isInternetEnabled": true,
   "language": "python",
   "sourceType": "notebook"
  },
  "kernelspec": {
   "display_name": "Python 3",
   "language": "python",
   "name": "python3"
  },
  "language_info": {
   "codemirror_mode": {
    "name": "ipython",
    "version": 3
   },
   "file_extension": ".py",
   "mimetype": "text/x-python",
   "name": "python",
   "nbconvert_exporter": "python",
   "pygments_lexer": "ipython3",
   "version": "3.10.12"
  }
 },
 "nbformat": 4,
 "nbformat_minor": 4
}
